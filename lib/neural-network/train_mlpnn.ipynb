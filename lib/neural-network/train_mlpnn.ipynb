{
 "cells": [
  {
   "cell_type": "code",
   "execution_count": 1,
   "metadata": {
    "collapsed": false
   },
   "outputs": [
    {
     "name": "stdout",
     "output_type": "stream",
     "text": [
      "Requirement already satisfied (use --upgrade to upgrade): pandas in /anaconda/lib/python3.5/site-packages\r\n",
      "Requirement already satisfied (use --upgrade to upgrade): python-dateutil>=2 in /anaconda/lib/python3.5/site-packages (from pandas)\r\n",
      "Requirement already satisfied (use --upgrade to upgrade): pytz>=2011k in /anaconda/lib/python3.5/site-packages (from pandas)\r\n",
      "Requirement already satisfied (use --upgrade to upgrade): numpy>=1.7.0 in /anaconda/lib/python3.5/site-packages (from pandas)\r\n",
      "Requirement already satisfied (use --upgrade to upgrade): six>=1.5 in /anaconda/lib/python3.5/site-packages (from python-dateutil>=2->pandas)\r\n"
     ]
    }
   ],
   "source": [
    "! pip install pandas\n",
    "! pip install time\n",
    "! pip install sklearn.neural_network\n",
    "! pip install sklearn.model_selection\n",
    "! pip install warnings"
   ]
  },
  {
   "cell_type": "code",
   "execution_count": 1,
   "metadata": {
    "collapsed": true
   },
   "outputs": [],
   "source": [
    "import time\n",
    "import pandas as pd\n",
    "from sklearn.neural_network import MLPClassifier\n",
    "from sklearn.model_selection import cross_val_score\n",
    "import warnings\n",
    "warnings.filterwarnings('ignore')"
   ]
  },
  {
   "cell_type": "code",
   "execution_count": 3,
   "metadata": {
    "collapsed": true
   },
   "outputs": [],
   "source": [
    "def train_mlpnn(data_train, label_train):\n",
    "    start = time.time()\n",
    "    df_x = pd.read_csv(data_train)\n",
    "    x = list(map(list, df_x.values))\n",
    "    df_y = pd.read_csv(label_train, header = None)\n",
    "    y = df_y.values.tolist()\n",
    "    y = [i for sub in y for i in sub]\n",
    "    score = []\n",
    "    for i in range(4, 10):\n",
    "        #start = time.time()\n",
    "        clf = MLPClassifier(solver='adam', alpha=1e-5, hidden_layer_sizes=(6, 6, i ), random_state=1)\n",
    "        scores = cross_val_score(clf, x, y, cv = 5)\n",
    "        score.append(scores.mean())\n",
    "        print(str(i) + \": \" + str(scores.mean()))\n",
    "    \n",
    "    index = score.index(max(score))\n",
    "    par = 4 + index\n",
    "    clf_final = MLPClassifier(solver='adam', alpha=1e-5, hidden_layer_sizes=(6, 6, par), random_state=1)\n",
    "    model = clf_final.fit(x, y)\n",
    "    print(par)\n",
    "    print(\"Time for training: \" + str(time.time() - start) + \"sec.\\n\")\n",
    "    \n",
    "    return model\n"
   ]
  },
  {
   "cell_type": "code",
   "execution_count": 4,
   "metadata": {
    "collapsed": false
   },
   "outputs": [
    {
     "name": "stdout",
     "output_type": "stream",
     "text": [
      "4: 0.7525\n",
      "5: 0.7515\n",
      "6: 0.7495\n",
      "7: 0.755\n",
      "8: 0.7505\n",
      "9: 0.7525\n",
      "7\n",
      "Time for training: 536.2354900836945sec.\n",
      "\n"
     ]
    },
    {
     "data": {
      "text/plain": [
       "MLPClassifier(activation='relu', alpha=1e-05, batch_size='auto', beta_1=0.9,\n",
       "       beta_2=0.999, early_stopping=False, epsilon=1e-08,\n",
       "       hidden_layer_sizes=(6, 6, 7), learning_rate='constant',\n",
       "       learning_rate_init=0.001, max_iter=200, momentum=0.9,\n",
       "       nesterovs_momentum=True, power_t=0.5, random_state=1, shuffle=True,\n",
       "       solver='adam', tol=0.0001, validation_fraction=0.1, verbose=False,\n",
       "       warm_start=False)"
      ]
     },
     "execution_count": 4,
     "metadata": {},
     "output_type": "execute_result"
    }
   ],
   "source": [
    "train_mlpnn('sift_feature_trans.csv', 'label.txt')"
   ]
  },
  {
   "cell_type": "code",
   "execution_count": 5,
   "metadata": {
    "collapsed": false
   },
   "outputs": [
    {
     "name": "stdout",
     "output_type": "stream",
     "text": [
      "4: 0.562\n",
      "5: 0.8525\n",
      "6: 0.865\n",
      "7: 0.8575\n",
      "8: 0.8585\n",
      "9: 0.8575\n",
      "6\n",
      "Time for training: 124.93450403213501sec.\n",
      "\n"
     ]
    },
    {
     "data": {
      "text/plain": [
       "MLPClassifier(activation='relu', alpha=1e-05, batch_size='auto', beta_1=0.9,\n",
       "       beta_2=0.999, early_stopping=False, epsilon=1e-08,\n",
       "       hidden_layer_sizes=(6, 6, 6), learning_rate='constant',\n",
       "       learning_rate_init=0.001, max_iter=200, momentum=0.9,\n",
       "       nesterovs_momentum=True, power_t=0.5, random_state=1, shuffle=True,\n",
       "       solver='adam', tol=0.0001, validation_fraction=0.1, verbose=False,\n",
       "       warm_start=False)"
      ]
     },
     "execution_count": 5,
     "metadata": {},
     "output_type": "execute_result"
    }
   ],
   "source": [
    "train_mlpnn('color_feature.csv', 'label.txt')"
   ]
  },
  {
   "cell_type": "code",
   "execution_count": null,
   "metadata": {
    "collapsed": false
   },
   "outputs": [
    {
     "name": "stdout",
     "output_type": "stream",
     "text": [
      "4: 0.8695\n",
      "5: 0.871\n",
      "6: 0.8735\n",
      "7: 0.8695\n"
     ]
    }
   ],
   "source": [
    "train_mlpnn('sift_color.csv', 'label.txt')"
   ]
  },
  {
   "cell_type": "code",
   "execution_count": null,
   "metadata": {
    "collapsed": true
   },
   "outputs": [],
   "source": []
  }
 ],
 "metadata": {
  "anaconda-cloud": {},
  "kernelspec": {
   "display_name": "Python [Root]",
   "language": "python",
   "name": "Python [Root]"
  },
  "language_info": {
   "codemirror_mode": {
    "name": "ipython",
    "version": 3
   },
   "file_extension": ".py",
   "mimetype": "text/x-python",
   "name": "python",
   "nbconvert_exporter": "python",
   "pygments_lexer": "ipython3",
   "version": "3.5.2"
  }
 },
 "nbformat": 4,
 "nbformat_minor": 1
}
